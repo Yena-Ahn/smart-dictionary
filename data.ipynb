{
 "cells": [
  {
   "cell_type": "code",
   "execution_count": 1,
   "metadata": {},
   "outputs": [
    {
     "ename": "KeyboardInterrupt",
     "evalue": "",
     "output_type": "error",
     "traceback": [
      "\u001b[1;31m---------------------------------------------------------------------------\u001b[0m",
      "\u001b[1;31mKeyboardInterrupt\u001b[0m                         Traceback (most recent call last)",
      "Cell \u001b[1;32mIn[1], line 5\u001b[0m\n\u001b[0;32m      3\u001b[0m package \u001b[38;5;241m=\u001b[39m Package(\u001b[38;5;124m'\u001b[39m\u001b[38;5;124mhttps://raw.githubusercontent.com/garfieldnate/kengdic/master/datapackage.json\u001b[39m\u001b[38;5;124m'\u001b[39m)\n\u001b[0;32m      4\u001b[0m resource \u001b[38;5;241m=\u001b[39m package\u001b[38;5;241m.\u001b[39mget_resource(\u001b[38;5;124m'\u001b[39m\u001b[38;5;124mkengdic\u001b[39m\u001b[38;5;124m'\u001b[39m)\n\u001b[1;32m----> 5\u001b[0m dataset \u001b[38;5;241m=\u001b[39m \u001b[43mresource\u001b[49m\u001b[38;5;241;43m.\u001b[39;49m\u001b[43mread\u001b[49m\u001b[43m(\u001b[49m\u001b[43mkeyed\u001b[49m\u001b[38;5;241;43m=\u001b[39;49m\u001b[38;5;28;43;01mTrue\u001b[39;49;00m\u001b[43m)\u001b[49m\n",
      "File \u001b[1;32mc:\\Users\\문동휘\\AppData\\Local\\Programs\\Python\\Python310\\lib\\site-packages\\datapackage\\resource.py:383\u001b[0m, in \u001b[0;36mResource.read\u001b[1;34m(self, integrity, relations, foreign_keys_values, **options)\u001b[0m\n\u001b[0;32m    <a href='file:///c%3A/Users/%EB%AC%B8%EB%8F%99%ED%9C%98/AppData/Local/Programs/Python/Python310/lib/site-packages/datapackage/resource.py?line=379'>380</a>\u001b[0m \u001b[39mif\u001b[39;00m relations \u001b[39mand\u001b[39;00m \u001b[39mnot\u001b[39;00m foreign_keys_values:\n\u001b[0;32m    <a href='file:///c%3A/Users/%EB%AC%B8%EB%8F%99%ED%9C%98/AppData/Local/Programs/Python/Python310/lib/site-packages/datapackage/resource.py?line=380'>381</a>\u001b[0m     relations \u001b[39m=\u001b[39m \u001b[39mself\u001b[39m\u001b[39m.\u001b[39m__get_relations()\n\u001b[1;32m--> <a href='file:///c%3A/Users/%EB%AC%B8%EB%8F%99%ED%9C%98/AppData/Local/Programs/Python/Python310/lib/site-packages/datapackage/resource.py?line=382'>383</a>\u001b[0m \u001b[39mreturn\u001b[39;00m \u001b[39mself\u001b[39m\u001b[39m.\u001b[39m__get_table()\u001b[39m.\u001b[39mread(\n\u001b[0;32m    <a href='file:///c%3A/Users/%EB%AC%B8%EB%8F%99%ED%9C%98/AppData/Local/Programs/Python/Python310/lib/site-packages/datapackage/resource.py?line=383'>384</a>\u001b[0m     integrity\u001b[39m=\u001b[39mintegrity, relations\u001b[39m=\u001b[39mrelations,\n\u001b[0;32m    <a href='file:///c%3A/Users/%EB%AC%B8%EB%8F%99%ED%9C%98/AppData/Local/Programs/Python/Python310/lib/site-packages/datapackage/resource.py?line=384'>385</a>\u001b[0m     foreign_keys_values\u001b[39m=\u001b[39mforeign_keys_values, \u001b[39m*\u001b[39m\u001b[39m*\u001b[39moptions)\n",
      "File \u001b[1;32mc:\\Users\\문동휘\\AppData\\Local\\Programs\\Python\\Python310\\lib\\site-packages\\tableschema\\table.py:353\u001b[0m, in \u001b[0;36mTable.read\u001b[1;34m(self, keyed, extended, cast, limit, integrity, relations, foreign_keys_values, exc_handler)\u001b[0m\n\u001b[0;32m    <a href='file:///c%3A/Users/%EB%AC%B8%EB%8F%99%ED%9C%98/AppData/Local/Programs/Python/Python310/lib/site-packages/tableschema/table.py?line=347'>348</a>\u001b[0m result \u001b[39m=\u001b[39m []\n\u001b[0;32m    <a href='file:///c%3A/Users/%EB%AC%B8%EB%8F%99%ED%9C%98/AppData/Local/Programs/Python/Python310/lib/site-packages/tableschema/table.py?line=348'>349</a>\u001b[0m rows \u001b[39m=\u001b[39m \u001b[39mself\u001b[39m\u001b[39m.\u001b[39miter(\n\u001b[0;32m    <a href='file:///c%3A/Users/%EB%AC%B8%EB%8F%99%ED%9C%98/AppData/Local/Programs/Python/Python310/lib/site-packages/tableschema/table.py?line=349'>350</a>\u001b[0m     keyed\u001b[39m=\u001b[39mkeyed, extended\u001b[39m=\u001b[39mextended, cast\u001b[39m=\u001b[39mcast, integrity\u001b[39m=\u001b[39mintegrity,\n\u001b[0;32m    <a href='file:///c%3A/Users/%EB%AC%B8%EB%8F%99%ED%9C%98/AppData/Local/Programs/Python/Python310/lib/site-packages/tableschema/table.py?line=350'>351</a>\u001b[0m     relations\u001b[39m=\u001b[39mrelations, foreign_keys_values\u001b[39m=\u001b[39mforeign_keys_values,\n\u001b[0;32m    <a href='file:///c%3A/Users/%EB%AC%B8%EB%8F%99%ED%9C%98/AppData/Local/Programs/Python/Python310/lib/site-packages/tableschema/table.py?line=351'>352</a>\u001b[0m     exc_handler\u001b[39m=\u001b[39mexc_handler)\n\u001b[1;32m--> <a href='file:///c%3A/Users/%EB%AC%B8%EB%8F%99%ED%9C%98/AppData/Local/Programs/Python/Python310/lib/site-packages/tableschema/table.py?line=352'>353</a>\u001b[0m \u001b[39mfor\u001b[39;00m count, row \u001b[39min\u001b[39;00m \u001b[39menumerate\u001b[39m(rows, start\u001b[39m=\u001b[39m\u001b[39m1\u001b[39m):\n\u001b[0;32m    <a href='file:///c%3A/Users/%EB%AC%B8%EB%8F%99%ED%9C%98/AppData/Local/Programs/Python/Python310/lib/site-packages/tableschema/table.py?line=353'>354</a>\u001b[0m     result\u001b[39m.\u001b[39mappend(row)\n\u001b[0;32m    <a href='file:///c%3A/Users/%EB%AC%B8%EB%8F%99%ED%9C%98/AppData/Local/Programs/Python/Python310/lib/site-packages/tableschema/table.py?line=354'>355</a>\u001b[0m     \u001b[39mif\u001b[39;00m count \u001b[39m==\u001b[39m limit:\n",
      "File \u001b[1;32mc:\\Users\\문동휘\\AppData\\Local\\Programs\\Python\\Python310\\lib\\site-packages\\tableschema\\table.py:215\u001b[0m, in \u001b[0;36mTable.iter\u001b[1;34m(self, keyed, extended, cast, integrity, relations, foreign_keys_values, exc_handler)\u001b[0m\n\u001b[0;32m    <a href='file:///c%3A/Users/%EB%AC%B8%EB%8F%99%ED%9C%98/AppData/Local/Programs/Python/Python310/lib/site-packages/tableschema/table.py?line=211'>212</a>\u001b[0m iterator \u001b[39m=\u001b[39m stream\u001b[39m.\u001b[39miter(extended\u001b[39m=\u001b[39m\u001b[39mTrue\u001b[39;00m)\n\u001b[0;32m    <a href='file:///c%3A/Users/%EB%AC%B8%EB%8F%99%ED%9C%98/AppData/Local/Programs/Python/Python310/lib/site-packages/tableschema/table.py?line=212'>213</a>\u001b[0m iterator \u001b[39m=\u001b[39m \u001b[39mself\u001b[39m\u001b[39m.\u001b[39m__apply_processors(\n\u001b[0;32m    <a href='file:///c%3A/Users/%EB%AC%B8%EB%8F%99%ED%9C%98/AppData/Local/Programs/Python/Python310/lib/site-packages/tableschema/table.py?line=213'>214</a>\u001b[0m     iterator, cast\u001b[39m=\u001b[39mcast, exc_handler\u001b[39m=\u001b[39mexc_handler)\n\u001b[1;32m--> <a href='file:///c%3A/Users/%EB%AC%B8%EB%8F%99%ED%9C%98/AppData/Local/Programs/Python/Python310/lib/site-packages/tableschema/table.py?line=214'>215</a>\u001b[0m \u001b[39mfor\u001b[39;00m row_number, headers, row \u001b[39min\u001b[39;00m iterator:\n\u001b[0;32m    <a href='file:///c%3A/Users/%EB%AC%B8%EB%8F%99%ED%9C%98/AppData/Local/Programs/Python/Python310/lib/site-packages/tableschema/table.py?line=215'>216</a>\u001b[0m \n\u001b[0;32m    <a href='file:///c%3A/Users/%EB%AC%B8%EB%8F%99%ED%9C%98/AppData/Local/Programs/Python/Python310/lib/site-packages/tableschema/table.py?line=216'>217</a>\u001b[0m     \u001b[39m# Get headers\u001b[39;00m\n\u001b[0;32m    <a href='file:///c%3A/Users/%EB%AC%B8%EB%8F%99%ED%9C%98/AppData/Local/Programs/Python/Python310/lib/site-packages/tableschema/table.py?line=217'>218</a>\u001b[0m     \u001b[39mif\u001b[39;00m \u001b[39mnot\u001b[39;00m \u001b[39mself\u001b[39m\u001b[39m.\u001b[39m__headers:\n\u001b[0;32m    <a href='file:///c%3A/Users/%EB%AC%B8%EB%8F%99%ED%9C%98/AppData/Local/Programs/Python/Python310/lib/site-packages/tableschema/table.py?line=218'>219</a>\u001b[0m         \u001b[39mself\u001b[39m\u001b[39m.\u001b[39m__headers \u001b[39m=\u001b[39m headers\n",
      "File \u001b[1;32mc:\\Users\\문동휘\\AppData\\Local\\Programs\\Python\\Python310\\lib\\site-packages\\tableschema\\table.py:508\u001b[0m, in \u001b[0;36mTable.__apply_processors.<locals>.builtin_processor\u001b[1;34m(extended_rows)\u001b[0m\n\u001b[0;32m    <a href='file:///c%3A/Users/%EB%AC%B8%EB%8F%99%ED%9C%98/AppData/Local/Programs/Python/Python310/lib/site-packages/tableschema/table.py?line=505'>506</a>\u001b[0m \u001b[39mfor\u001b[39;00m row_number, headers, row \u001b[39min\u001b[39;00m extended_rows:\n\u001b[0;32m    <a href='file:///c%3A/Users/%EB%AC%B8%EB%8F%99%ED%9C%98/AppData/Local/Programs/Python/Python310/lib/site-packages/tableschema/table.py?line=506'>507</a>\u001b[0m     \u001b[39mif\u001b[39;00m \u001b[39mself\u001b[39m\u001b[39m.\u001b[39m__schema \u001b[39mand\u001b[39;00m cast:\n\u001b[1;32m--> <a href='file:///c%3A/Users/%EB%AC%B8%EB%8F%99%ED%9C%98/AppData/Local/Programs/Python/Python310/lib/site-packages/tableschema/table.py?line=507'>508</a>\u001b[0m         row \u001b[39m=\u001b[39m \u001b[39mself\u001b[39;49m\u001b[39m.\u001b[39;49m__schema\u001b[39m.\u001b[39;49mcast_row(\n\u001b[0;32m    <a href='file:///c%3A/Users/%EB%AC%B8%EB%8F%99%ED%9C%98/AppData/Local/Programs/Python/Python310/lib/site-packages/tableschema/table.py?line=508'>509</a>\u001b[0m             row, row_number\u001b[39m=\u001b[39;49mrow_number, exc_handler\u001b[39m=\u001b[39;49mexc_handler)\n\u001b[0;32m    <a href='file:///c%3A/Users/%EB%AC%B8%EB%8F%99%ED%9C%98/AppData/Local/Programs/Python/Python310/lib/site-packages/tableschema/table.py?line=509'>510</a>\u001b[0m     \u001b[39myield\u001b[39;00m (row_number, headers, row)\n",
      "File \u001b[1;32mc:\\Users\\문동휘\\AppData\\Local\\Programs\\Python\\Python310\\lib\\site-packages\\tableschema\\schema.py:281\u001b[0m, in \u001b[0;36mSchema.cast_row\u001b[1;34m(self, row, fail_fast, row_number, exc_handler)\u001b[0m\n\u001b[0;32m    <a href='file:///c%3A/Users/%EB%AC%B8%EB%8F%99%ED%9C%98/AppData/Local/Programs/Python/Python310/lib/site-packages/tableschema/schema.py?line=278'>279</a>\u001b[0m \u001b[39mfor\u001b[39;00m field, value \u001b[39min\u001b[39;00m \u001b[39mzip\u001b[39m(\u001b[39mself\u001b[39m\u001b[39m.\u001b[39mfields, row):\n\u001b[0;32m    <a href='file:///c%3A/Users/%EB%AC%B8%EB%8F%99%ED%9C%98/AppData/Local/Programs/Python/Python310/lib/site-packages/tableschema/schema.py?line=279'>280</a>\u001b[0m     \u001b[39mtry\u001b[39;00m:\n\u001b[1;32m--> <a href='file:///c%3A/Users/%EB%AC%B8%EB%8F%99%ED%9C%98/AppData/Local/Programs/Python/Python310/lib/site-packages/tableschema/schema.py?line=280'>281</a>\u001b[0m         result\u001b[39m.\u001b[39mappend(field\u001b[39m.\u001b[39;49mcast_value(value))\n\u001b[0;32m    <a href='file:///c%3A/Users/%EB%AC%B8%EB%8F%99%ED%9C%98/AppData/Local/Programs/Python/Python310/lib/site-packages/tableschema/schema.py?line=281'>282</a>\u001b[0m     \u001b[39mexcept\u001b[39;00m exceptions\u001b[39m.\u001b[39mCastError \u001b[39mas\u001b[39;00m exception:\n\u001b[0;32m    <a href='file:///c%3A/Users/%EB%AC%B8%EB%8F%99%ED%9C%98/AppData/Local/Programs/Python/Python310/lib/site-packages/tableschema/schema.py?line=282'>283</a>\u001b[0m         \u001b[39mif\u001b[39;00m fail_fast:\n",
      "File \u001b[1;32mc:\\Users\\문동휘\\AppData\\Local\\Programs\\Python\\Python310\\lib\\site-packages\\tableschema\\field.py:165\u001b[0m, in \u001b[0;36mField.cast_value\u001b[1;34m(self, value, constraints)\u001b[0m\n\u001b[0;32m    <a href='file:///c%3A/Users/%EB%AC%B8%EB%8F%99%ED%9C%98/AppData/Local/Programs/Python/Python310/lib/site-packages/tableschema/field.py?line=162'>163</a>\u001b[0m cast_value \u001b[39m=\u001b[39m value\n\u001b[0;32m    <a href='file:///c%3A/Users/%EB%AC%B8%EB%8F%99%ED%9C%98/AppData/Local/Programs/Python/Python310/lib/site-packages/tableschema/field.py?line=163'>164</a>\u001b[0m \u001b[39mif\u001b[39;00m value \u001b[39mis\u001b[39;00m \u001b[39mnot\u001b[39;00m \u001b[39mNone\u001b[39;00m:\n\u001b[1;32m--> <a href='file:///c%3A/Users/%EB%AC%B8%EB%8F%99%ED%9C%98/AppData/Local/Programs/Python/Python310/lib/site-packages/tableschema/field.py?line=164'>165</a>\u001b[0m     cast_value \u001b[39m=\u001b[39m \u001b[39mself\u001b[39;49m\u001b[39m.\u001b[39;49m__cast_function(value)\n\u001b[0;32m    <a href='file:///c%3A/Users/%EB%AC%B8%EB%8F%99%ED%9C%98/AppData/Local/Programs/Python/Python310/lib/site-packages/tableschema/field.py?line=165'>166</a>\u001b[0m     \u001b[39mif\u001b[39;00m cast_value \u001b[39m==\u001b[39m config\u001b[39m.\u001b[39mERROR:\n\u001b[0;32m    <a href='file:///c%3A/Users/%EB%AC%B8%EB%8F%99%ED%9C%98/AppData/Local/Programs/Python/Python310/lib/site-packages/tableschema/field.py?line=166'>167</a>\u001b[0m         \u001b[39mraise\u001b[39;00m exceptions\u001b[39m.\u001b[39mCastError((\n\u001b[0;32m    <a href='file:///c%3A/Users/%EB%AC%B8%EB%8F%99%ED%9C%98/AppData/Local/Programs/Python/Python310/lib/site-packages/tableschema/field.py?line=167'>168</a>\u001b[0m             \u001b[39m'\u001b[39m\u001b[39mField \u001b[39m\u001b[39m\"\u001b[39m\u001b[39m{field.name}\u001b[39;00m\u001b[39m\"\u001b[39m\u001b[39m can\u001b[39m\u001b[39m\\'\u001b[39;00m\u001b[39mt cast value \u001b[39m\u001b[39m\"\u001b[39m\u001b[39m{value}\u001b[39;00m\u001b[39m\"\u001b[39m\u001b[39m \u001b[39m\u001b[39m'\u001b[39m\n\u001b[0;32m    <a href='file:///c%3A/Users/%EB%AC%B8%EB%8F%99%ED%9C%98/AppData/Local/Programs/Python/Python310/lib/site-packages/tableschema/field.py?line=168'>169</a>\u001b[0m             \u001b[39m'\u001b[39m\u001b[39mfor type \u001b[39m\u001b[39m\"\u001b[39m\u001b[39m{field.type}\u001b[39;00m\u001b[39m\"\u001b[39m\u001b[39m with format \u001b[39m\u001b[39m\"\u001b[39m\u001b[39m{field.format}\u001b[39;00m\u001b[39m\"\u001b[39m\u001b[39m'\u001b[39m\n\u001b[0;32m    <a href='file:///c%3A/Users/%EB%AC%B8%EB%8F%99%ED%9C%98/AppData/Local/Programs/Python/Python310/lib/site-packages/tableschema/field.py?line=169'>170</a>\u001b[0m             )\u001b[39m.\u001b[39mformat(field\u001b[39m=\u001b[39m\u001b[39mself\u001b[39m, value\u001b[39m=\u001b[39mvalue))\n",
      "File \u001b[1;32mc:\\Users\\문동휘\\AppData\\Local\\Programs\\Python\\Python310\\lib\\site-packages\\tableschema\\types\\datetime.py:22\u001b[0m, in \u001b[0;36mcast_datetime\u001b[1;34m(format, value, **options)\u001b[0m\n\u001b[0;32m     <a href='file:///c%3A/Users/%EB%AC%B8%EB%8F%99%ED%9C%98/AppData/Local/Programs/Python/Python310/lib/site-packages/tableschema/types/datetime.py?line=19'>20</a>\u001b[0m \u001b[39mtry\u001b[39;00m:\n\u001b[0;32m     <a href='file:///c%3A/Users/%EB%AC%B8%EB%8F%99%ED%9C%98/AppData/Local/Programs/Python/Python310/lib/site-packages/tableschema/types/datetime.py?line=20'>21</a>\u001b[0m     \u001b[39mif\u001b[39;00m \u001b[39mformat\u001b[39m \u001b[39m==\u001b[39m \u001b[39m'\u001b[39m\u001b[39mdefault\u001b[39m\u001b[39m'\u001b[39m:\n\u001b[1;32m---> <a href='file:///c%3A/Users/%EB%AC%B8%EB%8F%99%ED%9C%98/AppData/Local/Programs/Python/Python310/lib/site-packages/tableschema/types/datetime.py?line=21'>22</a>\u001b[0m         value \u001b[39m=\u001b[39m datetime\u001b[39m.\u001b[39;49mstrptime(value, _DEFAULT_PATTERN)\n\u001b[0;32m     <a href='file:///c%3A/Users/%EB%AC%B8%EB%8F%99%ED%9C%98/AppData/Local/Programs/Python/Python310/lib/site-packages/tableschema/types/datetime.py?line=22'>23</a>\u001b[0m     \u001b[39melif\u001b[39;00m \u001b[39mformat\u001b[39m \u001b[39m==\u001b[39m \u001b[39m'\u001b[39m\u001b[39many\u001b[39m\u001b[39m'\u001b[39m:\n\u001b[0;32m     <a href='file:///c%3A/Users/%EB%AC%B8%EB%8F%99%ED%9C%98/AppData/Local/Programs/Python/Python310/lib/site-packages/tableschema/types/datetime.py?line=23'>24</a>\u001b[0m         value \u001b[39m=\u001b[39m parse(value)\n",
      "File \u001b[1;32mc:\\Users\\문동휘\\AppData\\Local\\Programs\\Python\\Python310\\lib\\_strptime.py:568\u001b[0m, in \u001b[0;36m_strptime_datetime\u001b[1;34m(cls, data_string, format)\u001b[0m\n\u001b[0;32m    <a href='file:///c%3A/Users/%EB%AC%B8%EB%8F%99%ED%9C%98/AppData/Local/Programs/Python/Python310/lib/_strptime.py?line=564'>565</a>\u001b[0m \u001b[39mdef\u001b[39;00m \u001b[39m_strptime_datetime\u001b[39m(\u001b[39mcls\u001b[39m, data_string, \u001b[39mformat\u001b[39m\u001b[39m=\u001b[39m\u001b[39m\"\u001b[39m\u001b[39m%a\u001b[39;00m\u001b[39m \u001b[39m\u001b[39m%\u001b[39m\u001b[39mb \u001b[39m\u001b[39m%d\u001b[39;00m\u001b[39m \u001b[39m\u001b[39m%\u001b[39m\u001b[39mH:\u001b[39m\u001b[39m%\u001b[39m\u001b[39mM:\u001b[39m\u001b[39m%\u001b[39m\u001b[39mS \u001b[39m\u001b[39m%\u001b[39m\u001b[39mY\u001b[39m\u001b[39m\"\u001b[39m):\n\u001b[0;32m    <a href='file:///c%3A/Users/%EB%AC%B8%EB%8F%99%ED%9C%98/AppData/Local/Programs/Python/Python310/lib/_strptime.py?line=565'>566</a>\u001b[0m     \u001b[39m\"\"\"Return a class cls instance based on the input string and the\u001b[39;00m\n\u001b[0;32m    <a href='file:///c%3A/Users/%EB%AC%B8%EB%8F%99%ED%9C%98/AppData/Local/Programs/Python/Python310/lib/_strptime.py?line=566'>567</a>\u001b[0m \u001b[39m    format string.\"\"\"\u001b[39;00m\n\u001b[1;32m--> <a href='file:///c%3A/Users/%EB%AC%B8%EB%8F%99%ED%9C%98/AppData/Local/Programs/Python/Python310/lib/_strptime.py?line=567'>568</a>\u001b[0m     tt, fraction, gmtoff_fraction \u001b[39m=\u001b[39m _strptime(data_string, \u001b[39mformat\u001b[39;49m)\n\u001b[0;32m    <a href='file:///c%3A/Users/%EB%AC%B8%EB%8F%99%ED%9C%98/AppData/Local/Programs/Python/Python310/lib/_strptime.py?line=568'>569</a>\u001b[0m     tzname, gmtoff \u001b[39m=\u001b[39m tt[\u001b[39m-\u001b[39m\u001b[39m2\u001b[39m:]\n\u001b[0;32m    <a href='file:///c%3A/Users/%EB%AC%B8%EB%8F%99%ED%9C%98/AppData/Local/Programs/Python/Python310/lib/_strptime.py?line=569'>570</a>\u001b[0m     args \u001b[39m=\u001b[39m tt[:\u001b[39m6\u001b[39m] \u001b[39m+\u001b[39m (fraction,)\n",
      "File \u001b[1;32mc:\\Users\\문동휘\\AppData\\Local\\Programs\\Python\\Python310\\lib\\_strptime.py:322\u001b[0m, in \u001b[0;36m_strptime\u001b[1;34m(data_string, format)\u001b[0m\n\u001b[0;32m    <a href='file:///c%3A/Users/%EB%AC%B8%EB%8F%99%ED%9C%98/AppData/Local/Programs/Python/Python310/lib/_strptime.py?line=319'>320</a>\u001b[0m \u001b[39mwith\u001b[39;00m _cache_lock:\n\u001b[0;32m    <a href='file:///c%3A/Users/%EB%AC%B8%EB%8F%99%ED%9C%98/AppData/Local/Programs/Python/Python310/lib/_strptime.py?line=320'>321</a>\u001b[0m     locale_time \u001b[39m=\u001b[39m _TimeRE_cache\u001b[39m.\u001b[39mlocale_time\n\u001b[1;32m--> <a href='file:///c%3A/Users/%EB%AC%B8%EB%8F%99%ED%9C%98/AppData/Local/Programs/Python/Python310/lib/_strptime.py?line=321'>322</a>\u001b[0m     \u001b[39mif\u001b[39;00m (_getlang() \u001b[39m!=\u001b[39m locale_time\u001b[39m.\u001b[39mlang \u001b[39mor\u001b[39;00m\n\u001b[0;32m    <a href='file:///c%3A/Users/%EB%AC%B8%EB%8F%99%ED%9C%98/AppData/Local/Programs/Python/Python310/lib/_strptime.py?line=322'>323</a>\u001b[0m         time\u001b[39m.\u001b[39mtzname \u001b[39m!=\u001b[39m locale_time\u001b[39m.\u001b[39mtzname \u001b[39mor\u001b[39;00m\n\u001b[0;32m    <a href='file:///c%3A/Users/%EB%AC%B8%EB%8F%99%ED%9C%98/AppData/Local/Programs/Python/Python310/lib/_strptime.py?line=323'>324</a>\u001b[0m         time\u001b[39m.\u001b[39mdaylight \u001b[39m!=\u001b[39m locale_time\u001b[39m.\u001b[39mdaylight):\n\u001b[0;32m    <a href='file:///c%3A/Users/%EB%AC%B8%EB%8F%99%ED%9C%98/AppData/Local/Programs/Python/Python310/lib/_strptime.py?line=324'>325</a>\u001b[0m         _TimeRE_cache \u001b[39m=\u001b[39m TimeRE()\n\u001b[0;32m    <a href='file:///c%3A/Users/%EB%AC%B8%EB%8F%99%ED%9C%98/AppData/Local/Programs/Python/Python310/lib/_strptime.py?line=325'>326</a>\u001b[0m         _regex_cache\u001b[39m.\u001b[39mclear()\n",
      "File \u001b[1;32mc:\\Users\\문동휘\\AppData\\Local\\Programs\\Python\\Python310\\lib\\_strptime.py:28\u001b[0m, in \u001b[0;36m_getlang\u001b[1;34m()\u001b[0m\n\u001b[0;32m     <a href='file:///c%3A/Users/%EB%AC%B8%EB%8F%99%ED%9C%98/AppData/Local/Programs/Python/Python310/lib/_strptime.py?line=25'>26</a>\u001b[0m \u001b[39mdef\u001b[39;00m \u001b[39m_getlang\u001b[39m():\n\u001b[0;32m     <a href='file:///c%3A/Users/%EB%AC%B8%EB%8F%99%ED%9C%98/AppData/Local/Programs/Python/Python310/lib/_strptime.py?line=26'>27</a>\u001b[0m     \u001b[39m# Figure out what the current language is set to.\u001b[39;00m\n\u001b[1;32m---> <a href='file:///c%3A/Users/%EB%AC%B8%EB%8F%99%ED%9C%98/AppData/Local/Programs/Python/Python310/lib/_strptime.py?line=27'>28</a>\u001b[0m     \u001b[39mreturn\u001b[39;00m locale\u001b[39m.\u001b[39;49mgetlocale(locale\u001b[39m.\u001b[39;49mLC_TIME)\n",
      "File \u001b[1;32mc:\\Users\\문동휘\\AppData\\Local\\Programs\\Python\\Python310\\lib\\locale.py:601\u001b[0m, in \u001b[0;36mgetlocale\u001b[1;34m(category)\u001b[0m\n\u001b[0;32m    <a href='file:///c%3A/Users/%EB%AC%B8%EB%8F%99%ED%9C%98/AppData/Local/Programs/Python/Python310/lib/locale.py?line=588'>589</a>\u001b[0m \u001b[39m\"\"\" Returns the current setting for the given locale category as\u001b[39;00m\n\u001b[0;32m    <a href='file:///c%3A/Users/%EB%AC%B8%EB%8F%99%ED%9C%98/AppData/Local/Programs/Python/Python310/lib/locale.py?line=589'>590</a>\u001b[0m \u001b[39m    tuple (language code, encoding).\u001b[39;00m\n\u001b[0;32m    <a href='file:///c%3A/Users/%EB%AC%B8%EB%8F%99%ED%9C%98/AppData/Local/Programs/Python/Python310/lib/locale.py?line=590'>591</a>\u001b[0m \n\u001b[1;32m   (...)\u001b[0m\n\u001b[0;32m    <a href='file:///c%3A/Users/%EB%AC%B8%EB%8F%99%ED%9C%98/AppData/Local/Programs/Python/Python310/lib/locale.py?line=597'>598</a>\u001b[0m \n\u001b[0;32m    <a href='file:///c%3A/Users/%EB%AC%B8%EB%8F%99%ED%9C%98/AppData/Local/Programs/Python/Python310/lib/locale.py?line=598'>599</a>\u001b[0m \u001b[39m\"\"\"\u001b[39;00m\n\u001b[0;32m    <a href='file:///c%3A/Users/%EB%AC%B8%EB%8F%99%ED%9C%98/AppData/Local/Programs/Python/Python310/lib/locale.py?line=599'>600</a>\u001b[0m localename \u001b[39m=\u001b[39m _setlocale(category)\n\u001b[1;32m--> <a href='file:///c%3A/Users/%EB%AC%B8%EB%8F%99%ED%9C%98/AppData/Local/Programs/Python/Python310/lib/locale.py?line=600'>601</a>\u001b[0m \u001b[39mif\u001b[39;00m category \u001b[39m==\u001b[39;49m LC_ALL \u001b[39mand\u001b[39;00m \u001b[39m'\u001b[39m\u001b[39m;\u001b[39m\u001b[39m'\u001b[39m \u001b[39min\u001b[39;00m localename:\n\u001b[0;32m    <a href='file:///c%3A/Users/%EB%AC%B8%EB%8F%99%ED%9C%98/AppData/Local/Programs/Python/Python310/lib/locale.py?line=601'>602</a>\u001b[0m     \u001b[39mraise\u001b[39;00m \u001b[39mTypeError\u001b[39;00m(\u001b[39m'\u001b[39m\u001b[39mcategory LC_ALL is not supported\u001b[39m\u001b[39m'\u001b[39m)\n\u001b[0;32m    <a href='file:///c%3A/Users/%EB%AC%B8%EB%8F%99%ED%9C%98/AppData/Local/Programs/Python/Python310/lib/locale.py?line=602'>603</a>\u001b[0m \u001b[39mreturn\u001b[39;00m _parse_localename(localename)\n",
      "\u001b[1;31mKeyboardInterrupt\u001b[0m: "
     ]
    }
   ],
   "source": [
    "from datapackage import Package\n",
    "import pandas as pd\n",
    "package = Package('https://raw.githubusercontent.com/garfieldnate/kengdic/master/datapackage.json')\n",
    "resource = package.get_resource('kengdic')\n",
    "dataset = resource.read(keyed=True)"
   ]
  },
  {
   "cell_type": "code",
   "execution_count": null,
   "metadata": {},
   "outputs": [
    {
     "data": {
      "text/plain": [
       "{'id': 2,\n",
       " 'surface': '1회의 최저 판매량',\n",
       " 'hanja': None,\n",
       " 'gloss': 'minimum purchase',\n",
       " 'level': None,\n",
       " 'created': datetime.datetime(2006, 1, 16, 9, 52, 46),\n",
       " 'source': 'engdic-115211@ezcorean:115211'}"
      ]
     },
     "execution_count": 16,
     "metadata": {},
     "output_type": "execute_result"
    }
   ],
   "source": [
    "dataset[1]"
   ]
  },
  {
   "cell_type": "code",
   "execution_count": null,
   "metadata": {},
   "outputs": [],
   "source": [
    "df = pd.DataFrame(dataset)\n"
   ]
  },
  {
   "cell_type": "code",
   "execution_count": 5,
   "metadata": {},
   "outputs": [],
   "source": [
    "df = df.drop(['id', 'hanja', 'level', 'created', 'source'], axis=1)\n"
   ]
  },
  {
   "cell_type": "code",
   "execution_count": 6,
   "metadata": {},
   "outputs": [
    {
     "data": {
      "text/html": [
       "<div>\n",
       "<style scoped>\n",
       "    .dataframe tbody tr th:only-of-type {\n",
       "        vertical-align: middle;\n",
       "    }\n",
       "\n",
       "    .dataframe tbody tr th {\n",
       "        vertical-align: top;\n",
       "    }\n",
       "\n",
       "    .dataframe thead th {\n",
       "        text-align: right;\n",
       "    }\n",
       "</style>\n",
       "<table border=\"1\" class=\"dataframe\">\n",
       "  <thead>\n",
       "    <tr style=\"text-align: right;\">\n",
       "      <th></th>\n",
       "      <th>id</th>\n",
       "      <th>surface</th>\n",
       "      <th>gloss</th>\n",
       "    </tr>\n",
       "  </thead>\n",
       "  <tbody>\n",
       "    <tr>\n",
       "      <th>0</th>\n",
       "      <td>1</td>\n",
       "      <td>전원의  행진</td>\n",
       "      <td>promenade</td>\n",
       "    </tr>\n",
       "    <tr>\n",
       "      <th>1</th>\n",
       "      <td>2</td>\n",
       "      <td>1회의 최저 판매량</td>\n",
       "      <td>minimum purchase</td>\n",
       "    </tr>\n",
       "    <tr>\n",
       "      <th>2</th>\n",
       "      <td>3</td>\n",
       "      <td>70세</td>\n",
       "      <td>threescore</td>\n",
       "    </tr>\n",
       "    <tr>\n",
       "      <th>3</th>\n",
       "      <td>4</td>\n",
       "      <td>걸쇠만 걸고</td>\n",
       "      <td>on the  latch</td>\n",
       "    </tr>\n",
       "    <tr>\n",
       "      <th>4</th>\n",
       "      <td>5</td>\n",
       "      <td>검은고니</td>\n",
       "      <td>black  swan</td>\n",
       "    </tr>\n",
       "    <tr>\n",
       "      <th>...</th>\n",
       "      <td>...</td>\n",
       "      <td>...</td>\n",
       "      <td>...</td>\n",
       "    </tr>\n",
       "    <tr>\n",
       "      <th>133759</th>\n",
       "      <td>133786</td>\n",
       "      <td>전북</td>\n",
       "      <td>short for Jeollabuk-do</td>\n",
       "    </tr>\n",
       "    <tr>\n",
       "      <th>133760</th>\n",
       "      <td>133787</td>\n",
       "      <td>사찰</td>\n",
       "      <td>A Buddhist temple (more commonly 절)</td>\n",
       "    </tr>\n",
       "    <tr>\n",
       "      <th>133761</th>\n",
       "      <td>133788</td>\n",
       "      <td>백수</td>\n",
       "      <td>all kinds of animals</td>\n",
       "    </tr>\n",
       "    <tr>\n",
       "      <th>133762</th>\n",
       "      <td>133789</td>\n",
       "      <td>베이징</td>\n",
       "      <td>Beijing (alternative pronunciation for 북경)</td>\n",
       "    </tr>\n",
       "    <tr>\n",
       "      <th>133763</th>\n",
       "      <td>133790</td>\n",
       "      <td>편쌈</td>\n",
       "      <td>a gang fight (short for 편싸움)</td>\n",
       "    </tr>\n",
       "  </tbody>\n",
       "</table>\n",
       "<p>133764 rows × 3 columns</p>\n",
       "</div>"
      ],
      "text/plain": [
       "            id     surface                                       gloss\n",
       "0            1     전원의  행진                                   promenade\n",
       "1            2  1회의 최저 판매량                            minimum purchase\n",
       "2            3         70세                                  threescore\n",
       "3            4      걸쇠만 걸고                               on the  latch\n",
       "4            5        검은고니                                 black  swan\n",
       "...        ...         ...                                         ...\n",
       "133759  133786          전북                      short for Jeollabuk-do\n",
       "133760  133787          사찰         A Buddhist temple (more commonly 절)\n",
       "133761  133788          백수                        all kinds of animals\n",
       "133762  133789         베이징  Beijing (alternative pronunciation for 북경)\n",
       "133763  133790          편쌈                a gang fight (short for 편싸움)\n",
       "\n",
       "[133764 rows x 3 columns]"
      ]
     },
     "execution_count": 6,
     "metadata": {},
     "output_type": "execute_result"
    }
   ],
   "source": [
    "df"
   ]
  },
  {
   "cell_type": "code",
   "execution_count": null,
   "metadata": {},
   "outputs": [
    {
     "ename": "",
     "evalue": "",
     "output_type": "error",
     "traceback": [
      "\u001b[1;31mFailed to start the Kernel. \n",
      "Canceled. \n",
      "View Jupyter <a href='command:jupyter.viewOutput'>log</a> for further details."
     ]
    }
   ],
   "source": [
    "df=df[df['gloss'].notnull()]"
   ]
  },
  {
   "cell_type": "code",
   "execution_count": null,
   "metadata": {},
   "outputs": [],
   "source": [
    "df"
   ]
  }
 ],
 "metadata": {
  "interpreter": {
   "hash": "5b477eed1ff8ddced85b2498858c5203629098cb93ebc5c91df4b8ba96f2603a"
  },
  "kernelspec": {
   "display_name": "Python 3.10.2 64-bit (system)",
   "language": "python",
   "name": "python3"
  },
  "language_info": {
   "codemirror_mode": {
    "name": "ipython",
    "version": 3
   },
   "file_extension": ".py",
   "mimetype": "text/x-python",
   "name": "python",
   "nbconvert_exporter": "python",
   "pygments_lexer": "ipython3",
   "version": "3.10.2"
  },
  "orig_nbformat": 4,
  "vscode": {
   "interpreter": {
    "hash": "e2b04ddb26b473c6d5d2127b43bb21a2f7b1cf5ea4d9379ea32d3e3f1a3b88e0"
   }
  }
 },
 "nbformat": 4,
 "nbformat_minor": 2
}
