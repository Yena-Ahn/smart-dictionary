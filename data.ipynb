{
 "cells": [
  {
   "cell_type": "code",
   "execution_count": 3,
   "metadata": {},
   "outputs": [],
   "source": [
    "from datapackage import Package\n",
    "import pandas as pd\n",
    "package = Package('https://raw.githubusercontent.com/garfieldnate/kengdic/master/datapackage.json')\n",
    "resource = package.get_resource('kengdic')\n",
    "dataset = resource.read(keyed=True)"
   ]
  },
  {
   "cell_type": "code",
   "execution_count": 16,
   "metadata": {},
   "outputs": [
    {
     "data": {
      "text/plain": [
       "{'id': 2,\n",
       " 'surface': '1회의 최저 판매량',\n",
       " 'hanja': None,\n",
       " 'gloss': 'minimum purchase',\n",
       " 'level': None,\n",
       " 'created': datetime.datetime(2006, 1, 16, 9, 52, 46),\n",
       " 'source': 'engdic-115211@ezcorean:115211'}"
      ]
     },
     "execution_count": 16,
     "metadata": {},
     "output_type": "execute_result"
    }
   ],
   "source": [
    "dataset[1]"
   ]
  },
  {
   "cell_type": "code",
   "execution_count": 4,
   "metadata": {},
   "outputs": [],
   "source": [
    "df = pd.DataFrame(dataset)\n"
   ]
  },
  {
   "cell_type": "code",
   "execution_count": 5,
   "metadata": {},
   "outputs": [],
   "source": [
    "df = df.drop(['hanja', 'level', 'created', 'source'], axis=1)\n"
   ]
  },
  {
   "cell_type": "code",
   "execution_count": 6,
   "metadata": {},
   "outputs": [
    {
     "data": {
      "text/html": [
       "<div>\n",
       "<style scoped>\n",
       "    .dataframe tbody tr th:only-of-type {\n",
       "        vertical-align: middle;\n",
       "    }\n",
       "\n",
       "    .dataframe tbody tr th {\n",
       "        vertical-align: top;\n",
       "    }\n",
       "\n",
       "    .dataframe thead th {\n",
       "        text-align: right;\n",
       "    }\n",
       "</style>\n",
       "<table border=\"1\" class=\"dataframe\">\n",
       "  <thead>\n",
       "    <tr style=\"text-align: right;\">\n",
       "      <th></th>\n",
       "      <th>id</th>\n",
       "      <th>surface</th>\n",
       "      <th>gloss</th>\n",
       "    </tr>\n",
       "  </thead>\n",
       "  <tbody>\n",
       "    <tr>\n",
       "      <th>0</th>\n",
       "      <td>1</td>\n",
       "      <td>전원의  행진</td>\n",
       "      <td>promenade</td>\n",
       "    </tr>\n",
       "    <tr>\n",
       "      <th>1</th>\n",
       "      <td>2</td>\n",
       "      <td>1회의 최저 판매량</td>\n",
       "      <td>minimum purchase</td>\n",
       "    </tr>\n",
       "    <tr>\n",
       "      <th>2</th>\n",
       "      <td>3</td>\n",
       "      <td>70세</td>\n",
       "      <td>threescore</td>\n",
       "    </tr>\n",
       "    <tr>\n",
       "      <th>3</th>\n",
       "      <td>4</td>\n",
       "      <td>걸쇠만 걸고</td>\n",
       "      <td>on the  latch</td>\n",
       "    </tr>\n",
       "    <tr>\n",
       "      <th>4</th>\n",
       "      <td>5</td>\n",
       "      <td>검은고니</td>\n",
       "      <td>black  swan</td>\n",
       "    </tr>\n",
       "    <tr>\n",
       "      <th>...</th>\n",
       "      <td>...</td>\n",
       "      <td>...</td>\n",
       "      <td>...</td>\n",
       "    </tr>\n",
       "    <tr>\n",
       "      <th>133759</th>\n",
       "      <td>133786</td>\n",
       "      <td>전북</td>\n",
       "      <td>short for Jeollabuk-do</td>\n",
       "    </tr>\n",
       "    <tr>\n",
       "      <th>133760</th>\n",
       "      <td>133787</td>\n",
       "      <td>사찰</td>\n",
       "      <td>A Buddhist temple (more commonly 절)</td>\n",
       "    </tr>\n",
       "    <tr>\n",
       "      <th>133761</th>\n",
       "      <td>133788</td>\n",
       "      <td>백수</td>\n",
       "      <td>all kinds of animals</td>\n",
       "    </tr>\n",
       "    <tr>\n",
       "      <th>133762</th>\n",
       "      <td>133789</td>\n",
       "      <td>베이징</td>\n",
       "      <td>Beijing (alternative pronunciation for 북경)</td>\n",
       "    </tr>\n",
       "    <tr>\n",
       "      <th>133763</th>\n",
       "      <td>133790</td>\n",
       "      <td>편쌈</td>\n",
       "      <td>a gang fight (short for 편싸움)</td>\n",
       "    </tr>\n",
       "  </tbody>\n",
       "</table>\n",
       "<p>133764 rows × 3 columns</p>\n",
       "</div>"
      ],
      "text/plain": [
       "            id     surface                                       gloss\n",
       "0            1     전원의  행진                                   promenade\n",
       "1            2  1회의 최저 판매량                            minimum purchase\n",
       "2            3         70세                                  threescore\n",
       "3            4      걸쇠만 걸고                               on the  latch\n",
       "4            5        검은고니                                 black  swan\n",
       "...        ...         ...                                         ...\n",
       "133759  133786          전북                      short for Jeollabuk-do\n",
       "133760  133787          사찰         A Buddhist temple (more commonly 절)\n",
       "133761  133788          백수                        all kinds of animals\n",
       "133762  133789         베이징  Beijing (alternative pronunciation for 북경)\n",
       "133763  133790          편쌈                a gang fight (short for 편싸움)\n",
       "\n",
       "[133764 rows x 3 columns]"
      ]
     },
     "execution_count": 6,
     "metadata": {},
     "output_type": "execute_result"
    }
   ],
   "source": [
    "df"
   ]
  }
 ],
 "metadata": {
  "kernelspec": {
   "display_name": "Python 3.8.15 ('venv')",
   "language": "python",
   "name": "python3"
  },
  "language_info": {
   "codemirror_mode": {
    "name": "ipython",
    "version": 3
   },
   "file_extension": ".py",
   "mimetype": "text/x-python",
   "name": "python",
   "nbconvert_exporter": "python",
   "pygments_lexer": "ipython3",
   "version": "3.8.15"
  },
  "orig_nbformat": 4,
  "vscode": {
   "interpreter": {
    "hash": "e2b04ddb26b473c6d5d2127b43bb21a2f7b1cf5ea4d9379ea32d3e3f1a3b88e0"
   }
  }
 },
 "nbformat": 4,
 "nbformat_minor": 2
}
